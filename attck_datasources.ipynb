{
 "cells": [
  {
   "cell_type": "code",
   "execution_count": null,
   "id": "e1d4d436-f3c4-4dd7-b54c-6746720d3bdb",
   "metadata": {},
   "outputs": [],
   "source": [
    "pip install stix2"
   ]
  },
  {
   "cell_type": "code",
   "execution_count": null,
   "id": "7d279d90-421c-4bb1-b805-46bca5b644a7",
   "metadata": {
    "tags": []
   },
   "outputs": [],
   "source": [
    "pip install taxii2-client"
   ]
  },
  {
   "cell_type": "code",
   "execution_count": 1,
   "id": "af07dc07-2f92-437b-92cc-a38cfacdb03e",
   "metadata": {
    "tags": []
   },
   "outputs": [],
   "source": [
    "from taxii2client.v20 import Server # only specify v20 if your installed version is >= 2.0.0"
   ]
  },
  {
   "cell_type": "code",
   "execution_count": 2,
   "id": "055c39c4-93b7-480b-b97a-faf07459e9a1",
   "metadata": {
    "tags": []
   },
   "outputs": [
    {
     "name": "stdout",
     "output_type": "stream",
     "text": [
      "Enterprise ATT&CK   95ecc380-afe9-11e4-9b6c-751b66dd541e\n",
      "PRE-ATT&CK          062767bd-02d2-4b72-84ba-56caef0f8658\n",
      "Mobile ATT&CK       2f669986-b40b-4423-b720-4396ca6a462b\n",
      "ICS ATT&CK          02c3ef24-9cd4-48f3-a99f-b74ce24f1d34\n"
     ]
    }
   ],
   "source": [
    "# Instantiate server and get API Root\n",
    "server = Server(\"https://cti-taxii.mitre.org/taxii/\")\n",
    "api_root = server.api_roots[0]\n",
    "\n",
    "# Print name and ID of all ATT&CK domains available as collections from the TAXII server\n",
    "for collection in api_root.collections:\n",
    "    print(collection.title.ljust(20) + collection.id)\n"
   ]
  },
  {
   "cell_type": "code",
   "execution_count": 46,
   "id": "0b24d4e6-b62b-41dd-9205-c79343e2a02c",
   "metadata": {
    "tags": []
   },
   "outputs": [],
   "source": [
    "from stix2 import TAXIICollectionSource, Filter\n",
    "from taxii2client.v21 import Collection, as_pages # only specify v20 if your installed version is >= 2.0.0"
   ]
  },
  {
   "cell_type": "code",
   "execution_count": 3,
   "id": "f05b8bd6-cb17-470e-9cf2-128ec579482a",
   "metadata": {
    "tags": []
   },
   "outputs": [],
   "source": [
    "collections = {\n",
    "    \"enterprise_attack\": \"95ecc380-afe9-11e4-9b6c-751b66dd541e\",\n",
    "    \"mobile_attack\": \"2f669986-b40b-4423-b720-4396ca6a462b\",\n",
    "    \"ics-attack\": \"02c3ef24-9cd4-48f3-a99f-b74ce24f1d34\"\n",
    "}"
   ]
  },
  {
   "cell_type": "code",
   "execution_count": 6,
   "id": "886054eb-03f9-44b5-bab9-c587cd1bb7e7",
   "metadata": {
    "tags": []
   },
   "outputs": [],
   "source": [
    "# Establish TAXII2 Collection instance for Enterprise ATT&CK \n",
    "collection = Collection(f\"https://cti-taxii.mitre.org/stix/collections/{collections['enterprise_attack']}/\")\n",
    "\n",
    "# Supply the collection to TAXIICollection\n",
    "src = TAXIICollectionSource(collection)"
   ]
  },
  {
   "cell_type": "code",
   "execution_count": 91,
   "id": "0acb565d-8707-4f11-8a3b-d1c7d009738b",
   "metadata": {
    "tags": []
   },
   "outputs": [],
   "source": [
    "# Helper function to filter revoked and depcreated objects (need this bc filter behaves differently for TAXII server)\n",
    "#https://github.com/mitre/cti/blob/master/USAGE.md#Working-with-deprecated-and-revoked-objects\n",
    "\n",
    "def remove_revoked_deprecated(stix_objects):\n",
    "    \"\"\"Remove any revoked or deprecated objects from queries made to the data source\"\"\"\n",
    "    # Note we use .get() because the property may not be present in the JSON data. The default is False\n",
    "    # if the property is not set.\n",
    "    return list(\n",
    "        filter(\n",
    "            lambda x: x.get(\"x_mitre_deprecated\", False) is False and x.get(\"revoked\", False) is False,\n",
    "            stix_objects\n",
    "        )\n",
    "    )"
   ]
  },
  {
   "cell_type": "code",
   "execution_count": 91,
   "id": "8f03d02c-f252-4f24-a304-e68648c0723d",
   "metadata": {
    "tags": []
   },
   "outputs": [
    {
     "name": "stderr",
     "output_type": "stream",
     "text": [
      "[taxii2client.v20] [WARNING ] [2023-02-21 16:52:55,158] TAXII Server Response did not include 'Content-Range' header - results could be incomplete.\n",
      "[taxii2client.v20] [WARNING ] [2023-02-21 16:52:55,184] TAXII Server Response with different amount of objects! Setting per_request=737\n"
     ]
    },
    {
     "data": {
      "text/plain": [
       "594"
      ]
     },
     "execution_count": 91,
     "metadata": {},
     "output_type": "execute_result"
    }
   ],
   "source": [
    "techniques = src.query([\n",
    "    Filter(\"type\", \"=\", \"attack-pattern\")\n",
    "])\n",
    "\n",
    "techniques = remove_revoked_deprecated(techniques)\n",
    "\n",
    "len(techniques)"
   ]
  },
  {
   "cell_type": "code",
   "execution_count": 131,
   "id": "33941431-2076-493a-aa0b-217471d97e10",
   "metadata": {
    "tags": []
   },
   "outputs": [
    {
     "name": "stdout",
     "output_type": "stream",
     "text": [
      "dict_keys(['type', 'id', 'created_by_ref', 'created', 'modified', 'name', 'description', 'kill_chain_phases', 'revoked', 'external_references', 'object_marking_refs', 'x_mitre_attack_spec_version', 'x_mitre_contributors', 'x_mitre_data_sources', 'x_mitre_deprecated', 'x_mitre_detection', 'x_mitre_domains', 'x_mitre_is_subtechnique', 'x_mitre_modified_by_ref', 'x_mitre_platforms', 'x_mitre_version'])\n"
     ]
    }
   ],
   "source": [
    "print(dict(techniques[0]).keys())\n"
   ]
  },
  {
   "cell_type": "code",
   "execution_count": 145,
   "id": "f90af14c-846d-4227-b2b7-8624adbb76ba",
   "metadata": {
    "tags": []
   },
   "outputs": [
    {
     "data": {
      "text/plain": [
       "{'type': 'attack-pattern',\n",
       " 'id': 'attack-pattern--005cc321-08ce-4d17-b1ea-cb5275926520',\n",
       " 'created_by_ref': 'identity--c78cb6e5-0c4b-4611-8297-d1b8b55e40b5',\n",
       " 'created': '2022-09-30T21:18:41.930Z',\n",
       " 'modified': '2022-10-20T19:56:18.579Z',\n",
       " 'name': 'Socket Filters',\n",
       " 'description': 'Adversaries may attach filters to a network socket to monitor then activate backdoors used for persistence or command and control. With elevated permissions, adversaries can use features such as the `libpcap` library to open sockets and install filters to allow or disallow certain types of data to come through the socket. The filter may apply to all traffic passing through the specified network interface (or every interface if not specified). When the network interface receives a packet matching the filter criteria, additional actions can be triggered on the host, such as activation of a reverse shell.\\n\\nTo establish a connection, an adversary sends a crafted packet to the targeted host that matches the installed filter criteria.(Citation: haking9 libpcap network sniffing) Adversaries have used these socket filters to trigger the installation of implants, conduct ping backs, and to invoke command shells. Communication with these socket filters may also be used in conjunction with [Protocol Tunneling](https://attack.mitre.org/techniques/T1572).(Citation: exatrack bpf filters passive backdoors)(Citation: Leonardo Turla Penquin May 2020)\\n\\nFilters can be installed on any Unix-like platform with `libpcap` installed or on Windows hosts using `Winpcap`.  Adversaries may use either `libpcap` with `pcap_setfilter` or the standard library function `setsockopt` with `SO_ATTACH_FILTER` options. Since the socket connection is not active until the packet is received, this behavior may be difficult to detect due to the lack of activity on a host, low CPU overhead, and limited visibility into raw socket usage.',\n",
       " 'kill_chain_phases': [KillChainPhase(kill_chain_name='mitre-attack', phase_name='defense-evasion'),\n",
       "  KillChainPhase(kill_chain_name='mitre-attack', phase_name='persistence'),\n",
       "  KillChainPhase(kill_chain_name='mitre-attack', phase_name='command-and-control')],\n",
       " 'revoked': False,\n",
       " 'external_references': [ExternalReference(source_name='mitre-attack', url='https://attack.mitre.org/techniques/T1205/002', external_id='T1205.002'),\n",
       "  ExternalReference(source_name='exatrack bpf filters passive backdoors', description='ExaTrack. (2022, May 11). Tricephalic Hellkeeper: a tale of a passive backdoor. Retrieved October 18, 2022.', url='https://exatrack.com/public/Tricephalic_Hellkeeper.pdf'),\n",
       "  ExternalReference(source_name='crowdstrike bpf socket filters', description='Jamie Harries. (2022, May 25). Hunting a Global Telecommunications Threat: DecisiveArchitect and Its Custom Implant JustForFun. Retrieved October 18, 2022.', url='https://www.crowdstrike.com/blog/how-to-hunt-for-decisivearchitect-and-justforfun-implant/'),\n",
       "  ExternalReference(source_name='Leonardo Turla Penquin May 2020', description='Leonardo. (2020, May 29). MALWARE TECHNICAL INSIGHT TURLA “Penquin_x64”. Retrieved March 11, 2021.', url='https://www.leonardo.com/documents/20142/10868623/Malware+Technical+Insight+_Turla+%E2%80%9CPenquin_x64%E2%80%9D.pdf'),\n",
       "  ExternalReference(source_name='haking9 libpcap network sniffing', description='Luis Martin Garcia. (2008, February 1). Hakin9 Issue 2/2008 Vol 3 No.2 VoIP Abuse: Storming SIP Security. Retrieved October 18, 2022.', url='http://recursos.aldabaknocking.com/libpcapHakin9LuisMartinGarcia.pdf')],\n",
       " 'object_marking_refs': ['marking-definition--fa42a846-8d90-4e51-bc29-71d5b4802168'],\n",
       " 'x_mitre_attack_spec_version': '2.1.0',\n",
       " 'x_mitre_contributors': ['Tim (Wadhwa-)Brown', 'CrowdStrike'],\n",
       " 'x_mitre_data_sources': ['Network Traffic: Network Connection Creation',\n",
       "  'Process: Process Creation'],\n",
       " 'x_mitre_deprecated': False,\n",
       " 'x_mitre_detection': 'Identify running processes with raw sockets. Ensure processes listed have a need for an open raw socket and are in accordance with enterprise policy.(Citation: crowdstrike bpf socket filters)',\n",
       " 'x_mitre_domains': ['enterprise-attack'],\n",
       " 'x_mitre_is_subtechnique': True,\n",
       " 'x_mitre_modified_by_ref': 'identity--c78cb6e5-0c4b-4611-8297-d1b8b55e40b5',\n",
       " 'x_mitre_platforms': ['Linux', 'macOS', 'Windows'],\n",
       " 'x_mitre_version': '1.0'}"
      ]
     },
     "execution_count": 145,
     "metadata": {},
     "output_type": "execute_result"
    }
   ],
   "source": [
    "dict(techniques[0])"
   ]
  },
  {
   "cell_type": "code",
   "execution_count": 148,
   "id": "cdf75e9c-27b1-4c97-b447-9f4ef38b67b5",
   "metadata": {
    "tags": []
   },
   "outputs": [
    {
     "data": {
      "text/plain": [
       "594"
      ]
     },
     "execution_count": 148,
     "metadata": {},
     "output_type": "execute_result"
    }
   ],
   "source": [
    "# Initialize list to hold Enterprise ATT&CK content\n",
    "attack_list = []\n",
    "\n",
    "for i in range(len(techniques)):\n",
    "    #initialize dictionary\n",
    "    attack_dict = {}\n",
    "    \n",
    "    #extract technique ID\n",
    "    t_id = dict(techniques[i].external_references[0]).get('external_id')\n",
    "    attack_dict['technique'] = t_id\n",
    "    \n",
    "    #extract technique name\n",
    "    attack_dict['name'] = techniques[i].get('name')\n",
    "    \n",
    "    #extract data sources\n",
    "    attack_dict['data_sources'] = techniques[i].get('x_mitre_data_sources')\n",
    "    \n",
    "    #append technique dictionary to list\n",
    "    attack_list.append(attack_dict)\n",
    "    \n",
    "    \n",
    "\n",
    "\n",
    "len(attack_list)        \n",
    "# print(json.dumps(attack_list, indent=4))"
   ]
  },
  {
   "cell_type": "code",
   "execution_count": 163,
   "id": "eab8423d-c0a3-4f62-a6d1-bf4674097f56",
   "metadata": {
    "tags": []
   },
   "outputs": [
    {
     "data": {
      "text/plain": [
       "['Active Directory: Active Directory Credential Request',\n",
       " 'Active Directory: Active Directory Object Access',\n",
       " 'Active Directory: Active Directory Object Creation',\n",
       " 'Active Directory: Active Directory Object Deletion',\n",
       " 'Active Directory: Active Directory Object Modification',\n",
       " 'Application Log: Application Log Content',\n",
       " 'Certificate: Certificate Registration',\n",
       " 'Cloud Service: Cloud Service Disable',\n",
       " 'Cloud Service: Cloud Service Enumeration',\n",
       " 'Cloud Service: Cloud Service Modification',\n",
       " 'Cloud Storage: Cloud Storage Access',\n",
       " 'Cloud Storage: Cloud Storage Creation',\n",
       " 'Cloud Storage: Cloud Storage Deletion',\n",
       " 'Cloud Storage: Cloud Storage Enumeration',\n",
       " 'Cloud Storage: Cloud Storage Metadata',\n",
       " 'Cloud Storage: Cloud Storage Modification',\n",
       " 'Command: Command Execution',\n",
       " 'Container: Container Creation',\n",
       " 'Container: Container Enumeration',\n",
       " 'Container: Container Start',\n",
       " 'Domain Name: Active DNS',\n",
       " 'Domain Name: Domain Registration',\n",
       " 'Domain Name: Passive DNS',\n",
       " 'Drive: Drive Access',\n",
       " 'Drive: Drive Creation',\n",
       " 'Drive: Drive Modification',\n",
       " 'Driver: Driver Load',\n",
       " 'Driver: Driver Metadata',\n",
       " 'File: File Access',\n",
       " 'File: File Creation',\n",
       " 'File: File Deletion',\n",
       " 'File: File Metadata',\n",
       " 'File: File Modification',\n",
       " 'Firewall: Firewall Disable',\n",
       " 'Firewall: Firewall Enumeration',\n",
       " 'Firewall: Firewall Metadata',\n",
       " 'Firewall: Firewall Rule Modification',\n",
       " 'Firmware: Firmware Modification',\n",
       " 'Group: Group Enumeration',\n",
       " 'Group: Group Metadata',\n",
       " 'Group: Group Modification',\n",
       " 'Image: Image Creation',\n",
       " 'Image: Image Deletion',\n",
       " 'Image: Image Metadata',\n",
       " 'Image: Image Modification',\n",
       " 'Instance: Instance Creation',\n",
       " 'Instance: Instance Deletion',\n",
       " 'Instance: Instance Enumeration',\n",
       " 'Instance: Instance Metadata',\n",
       " 'Instance: Instance Modification',\n",
       " 'Instance: Instance Start',\n",
       " 'Instance: Instance Stop',\n",
       " 'Internet Scan: Response Content',\n",
       " 'Internet Scan: Response Metadata',\n",
       " 'Kernel: Kernel Module Load',\n",
       " 'Logon Session: Logon Session Creation',\n",
       " 'Logon Session: Logon Session Metadata',\n",
       " 'Malware Repository: Malware Content',\n",
       " 'Malware Repository: Malware Metadata',\n",
       " 'Module: Module Load',\n",
       " 'Named Pipe: Named Pipe Metadata',\n",
       " 'Network Share: Network Share Access',\n",
       " 'Network Traffic: Network Connection Creation',\n",
       " 'Network Traffic: Network Traffic Content',\n",
       " 'Network Traffic: Network Traffic Flow',\n",
       " 'Persona: Social Media',\n",
       " 'Pod: Pod Creation',\n",
       " 'Pod: Pod Enumeration',\n",
       " 'Pod: Pod Modification',\n",
       " 'Process: OS API Execution',\n",
       " 'Process: Process Access',\n",
       " 'Process: Process Creation',\n",
       " 'Process: Process Metadata',\n",
       " 'Process: Process Modification',\n",
       " 'Process: Process Termination',\n",
       " 'Scheduled Job: Scheduled Job Creation',\n",
       " 'Scheduled Job: Scheduled Job Metadata',\n",
       " 'Scheduled Job: Scheduled Job Modification',\n",
       " 'Script: Script Execution',\n",
       " 'Sensor Health: Host Status',\n",
       " 'Service: Service Creation',\n",
       " 'Service: Service Metadata',\n",
       " 'Service: Service Modification',\n",
       " 'Snapshot: Snapshot Creation',\n",
       " 'Snapshot: Snapshot Deletion',\n",
       " 'Snapshot: Snapshot Enumeration',\n",
       " 'Snapshot: Snapshot Metadata',\n",
       " 'Snapshot: Snapshot Modification',\n",
       " 'User Account: User Account Authentication',\n",
       " 'User Account: User Account Creation',\n",
       " 'User Account: User Account Deletion',\n",
       " 'User Account: User Account Metadata',\n",
       " 'User Account: User Account Modification',\n",
       " 'Volume: Volume Creation',\n",
       " 'Volume: Volume Deletion',\n",
       " 'Volume: Volume Enumeration',\n",
       " 'Volume: Volume Metadata',\n",
       " 'Volume: Volume Modification',\n",
       " 'WMI: WMI Creation',\n",
       " 'Web Credential: Web Credential Creation',\n",
       " 'Web Credential: Web Credential Usage',\n",
       " 'Windows Registry: Windows Registry Key Access',\n",
       " 'Windows Registry: Windows Registry Key Creation',\n",
       " 'Windows Registry: Windows Registry Key Deletion',\n",
       " 'Windows Registry: Windows Registry Key Modification']"
      ]
     },
     "execution_count": 163,
     "metadata": {},
     "output_type": "execute_result"
    }
   ],
   "source": [
    "# Get all data sources in Enterprise ATT&CK\n",
    "all_data_srcs = []\n",
    "\n",
    "for tech in techniques:\n",
    "    if 'x_mitre_data_sources' in tech:\n",
    "        all_data_srcs += [\n",
    "            data_src for data_src in tech.x_mitre_data_sources\n",
    "            if data_src not in all_data_srcs\n",
    "        ]\n",
    "\n",
    "\n",
    "all_data_srcs.sort()\n",
    "all_data_srcs\n"
   ]
  },
  {
   "cell_type": "code",
   "execution_count": 56,
   "id": "312b889f-988f-4267-9913-874a508cee5f",
   "metadata": {
    "tags": []
   },
   "outputs": [],
   "source": [
    "# Initialize dictionary to hold Enterprise ATT&CK content\n",
    "attack = {}\n",
    "\n",
    "# Create filters to retrieve content from Enterprise ATT&CK\n",
    "filter_objs = {\"techniques\": Filter(\"type\", \"=\", \"attack-pattern\"),\n",
    "    \"mitigations\": Filter(\"type\", \"=\", \"course-of-action\"),\n",
    "    \"groups\": Filter(\"type\", \"=\", \"intrusion-set\"),\n",
    "    \"malware\": Filter(\"type\", \"=\", \"malware\"),\n",
    "    \"tools\": Filter(\"type\", \"=\", \"tool\"),\n",
    "    \"relationships\": Filter(\"type\", \"=\", \"relationship\")\n",
    "}"
   ]
  },
  {
   "cell_type": "code",
   "execution_count": 75,
   "id": "2a6be2ca-af8f-46af-971b-2c7fac5b5c71",
   "metadata": {
    "tags": []
   },
   "outputs": [
    {
     "name": "stderr",
     "output_type": "stream",
     "text": [
      "[taxii2client.v20] [WARNING ] [2023-02-21 16:22:44,024] TAXII Server Response did not include 'Content-Range' header - results could be incomplete.\n",
      "[taxii2client.v20] [WARNING ] [2023-02-21 16:22:44,045] TAXII Server Response with different amount of objects! Setting per_request=737\n",
      "[taxii2client.v20] [WARNING ] [2023-02-21 16:22:46,837] TAXII Server Response did not include 'Content-Range' header - results could be incomplete.\n",
      "[taxii2client.v20] [WARNING ] [2023-02-21 16:22:46,841] TAXII Server Response with different amount of objects! Setting per_request=267\n",
      "[taxii2client.v20] [WARNING ] [2023-02-21 16:22:49,780] TAXII Server Response did not include 'Content-Range' header - results could be incomplete.\n",
      "[taxii2client.v20] [WARNING ] [2023-02-21 16:22:49,785] TAXII Server Response with different amount of objects! Setting per_request=147\n",
      "[taxii2client.v20] [WARNING ] [2023-02-21 16:22:53,250] TAXII Server Response did not include 'Content-Range' header - results could be incomplete.\n",
      "[taxii2client.v20] [WARNING ] [2023-02-21 16:22:53,260] TAXII Server Response with different amount of objects! Setting per_request=542\n",
      "[taxii2client.v20] [WARNING ] [2023-02-21 16:22:55,647] TAXII Server Response did not include 'Content-Range' header - results could be incomplete.\n",
      "[taxii2client.v20] [WARNING ] [2023-02-21 16:22:55,649] TAXII Server Response with different amount of objects! Setting per_request=80\n",
      "[taxii2client.v20] [WARNING ] [2023-02-21 16:23:00,189] TAXII Server Response did not include 'Content-Range' header - results could be incomplete.\n",
      "[taxii2client.v20] [WARNING ] [2023-02-21 16:23:01,888] TAXII Server Response did not include 'Content-Range' header - results could be incomplete.\n",
      "[taxii2client.v20] [WARNING ] [2023-02-21 16:23:06,011] TAXII Server Response did not include 'Content-Range' header - results could be incomplete.\n",
      "[taxii2client.v20] [WARNING ] [2023-02-21 16:23:07,208] TAXII Server Response did not include 'Content-Range' header - results could be incomplete.\n"
     ]
    },
    {
     "data": {
      "text/plain": [
       "6"
      ]
     },
     "execution_count": 75,
     "metadata": {},
     "output_type": "execute_result"
    }
   ],
   "source": [
    "# Retrieve all Enterprise ATT&CK content\n",
    "for key in filter_objs:\n",
    "    attack[key] = src.query(filter_objs[key])\n",
    "\n",
    "# For visual purposes, print the first technique received\n",
    "# print(attack[\"techniques\"][0].serialize(pretty=True))\n",
    "len(attack)"
   ]
  },
  {
   "cell_type": "code",
   "execution_count": null,
   "id": "63dfe57f-98b1-47d7-a7fa-955ed75d1ea1",
   "metadata": {},
   "outputs": [],
   "source": []
  },
  {
   "cell_type": "code",
   "execution_count": null,
   "id": "4ff7c0fa-023f-4205-bd39-7af17fe44bc2",
   "metadata": {
    "tags": []
   },
   "outputs": [],
   "source": [
    "t1134 = src.query([ \n",
    "    Filter(\"external_references.external_id\", \"=\", \"T1134\"), \n",
    "    Filter(\"type\", \"=\", \"attack-pattern\")])[0]\n"
   ]
  },
  {
   "cell_type": "code",
   "execution_count": 79,
   "id": "b3c09de6-1d43-4327-8a15-6a0ade97c07e",
   "metadata": {
    "tags": []
   },
   "outputs": [
    {
     "name": "stderr",
     "output_type": "stream",
     "text": [
      "[taxii2client.v20] [WARNING ] [2023-02-21 16:26:39,035] TAXII Server Response did not include 'Content-Range' header - results could be incomplete.\n",
      "[taxii2client.v20] [WARNING ] [2023-02-21 16:26:41,088] TAXII Server Response did not include 'Content-Range' header - results could be incomplete.\n",
      "[taxii2client.v20] [WARNING ] [2023-02-21 16:26:44,468] TAXII Server Response did not include 'Content-Range' header - results could be incomplete.\n",
      "[taxii2client.v20] [WARNING ] [2023-02-21 16:26:46,286] TAXII Server Response did not include 'Content-Range' header - results could be incomplete.\n"
     ]
    },
    {
     "data": {
      "text/plain": [
       "[CourseOfAction(type='course-of-action', id='course-of-action--c61fee9f-16fb-4f8c-bbf0-869093fcd4a6', created_by_ref='identity--c78cb6e5-0c4b-4611-8297-d1b8b55e40b5', created='2018-10-17T00:14:20.652Z', modified='2019-07-24T14:29:27.367Z', name='Access Token Manipulation Mitigation', description='Access tokens are an integral part of the security system within Windows and cannot be turned off. However, an attacker must already have administrator level access on the local system to make full use of this technique; be sure to restrict users and accounts to the least privileges they require to do their job.\\n\\nAny user can also spoof access tokens if they have legitimate credentials. Follow mitigation guidelines for preventing adversary use of [Valid Accounts](https://attack.mitre.org/techniques/T1078). Limit permissions so that users and user groups cannot create tokens. This setting should be defined for the local system account only. GPO: Computer Configuration > [Policies] > Windows Settings > Security Settings > Local Policies > User Rights Assignment: Create a token object. (Citation: Microsoft Create Token) Also define who can create a process level token to only the local and network service through GPO: Computer Configuration > [Policies] > Windows Settings > Security Settings > Local Policies > User Rights Assignment: Replace a process level token. (Citation: Microsoft Replace Process Token)\\n\\nAlso limit opportunities for adversaries to increase privileges by limiting Privilege Escalation opportunities.', revoked=False, external_references=[ExternalReference(source_name='mitre-attack', url='https://attack.mitre.org/mitigations/T1134', external_id='T1134'), ExternalReference(source_name='Microsoft Create Token', description='Brower, N., Lich, B. (2017, April 19). Create a token object. Retrieved December 19, 2017.', url='https://docs.microsoft.com/windows/device-security/security-policy-settings/create-a-token-object'), ExternalReference(source_name='Microsoft Replace Process Token', description='Brower, N., Lich, B. (2017, April 19). Replace a process level token. Retrieved December 19, 2017.', url='https://docs.microsoft.com/windows/device-security/security-policy-settings/replace-a-process-level-token')], object_marking_refs=['marking-definition--fa42a846-8d90-4e51-bc29-71d5b4802168'], x_mitre_deprecated=True, x_mitre_domains=['enterprise-attack'], x_mitre_modified_by_ref='identity--c78cb6e5-0c4b-4611-8297-d1b8b55e40b5', x_mitre_version='1.0'),\n",
       " AttackPattern(type='attack-pattern', id='attack-pattern--dcaa092b-7de9-4a21-977f-7fcb77e89c48', created_by_ref='identity--c78cb6e5-0c4b-4611-8297-d1b8b55e40b5', created='2017-12-14T16:46:06.044Z', modified='2022-05-03T02:14:43.557Z', name='Access Token Manipulation', description='Adversaries may modify access tokens to operate under a different user or system security context to perform actions and bypass access controls. Windows uses access tokens to determine the ownership of a running process. A user can manipulate access tokens to make a running process appear as though it is the child of a different process or belongs to someone other than the user that started the process. When this occurs, the process also takes on the security context associated with the new token.\\n\\nAn adversary can use built-in Windows API functions to copy access tokens from existing processes; this is known as token stealing. These token can then be applied to an existing process (i.e. [Token Impersonation/Theft](https://attack.mitre.org/techniques/T1134/001)) or used to spawn a new process (i.e. [Create Process with Token](https://attack.mitre.org/techniques/T1134/002)). An adversary must already be in a privileged user context (i.e. administrator) to steal a token. However, adversaries commonly use token stealing to elevate their security context from the administrator level to the SYSTEM level. An adversary can then use a token to authenticate to a remote system as the account for that token if the account has appropriate permissions on the remote system.(Citation: Pentestlab Token Manipulation)\\n\\nAny standard user can use the <code>runas</code> command, and the Windows API functions, to create impersonation tokens; it does not require access to an administrator account. There are also other mechanisms, such as Active Directory fields, that can be used to modify access tokens.', kill_chain_phases=[KillChainPhase(kill_chain_name='mitre-attack', phase_name='defense-evasion'), KillChainPhase(kill_chain_name='mitre-attack', phase_name='privilege-escalation')], revoked=False, external_references=[ExternalReference(source_name='mitre-attack', url='https://attack.mitre.org/techniques/T1134', external_id='T1134'), ExternalReference(source_name='BlackHat Atkinson Winchester Token Manipulation', description='Atkinson, J., Winchester, R. (2017, December 7). A Process is No One: Hunting for Token Manipulation. Retrieved December 21, 2017.', url='https://www.blackhat.com/docs/eu-17/materials/eu-17-Atkinson-A-Process-Is-No-One-Hunting-For-Token-Manipulation.pdf'), ExternalReference(source_name='Microsoft Command-line Logging', description='Mathers, B. (2017, March 7). Command line process auditing. Retrieved April 21, 2017.', url='https://technet.microsoft.com/en-us/windows-server-docs/identity/ad-ds/manage/component-updates/command-line-process-auditing'), ExternalReference(source_name='Microsoft LogonUser', description='Microsoft TechNet. (n.d.). Retrieved April 25, 2017.', url='https://msdn.microsoft.com/en-us/library/windows/desktop/aa378184(v=vs.85).aspx'), ExternalReference(source_name='Microsoft DuplicateTokenEx', description='Microsoft TechNet. (n.d.). Retrieved April 25, 2017.', url='https://msdn.microsoft.com/en-us/library/windows/desktop/aa446617(v=vs.85).aspx'), ExternalReference(source_name='Microsoft ImpersonateLoggedOnUser', description='Microsoft TechNet. (n.d.). Retrieved April 25, 2017.', url='https://msdn.microsoft.com/en-us/library/windows/desktop/aa378612(v=vs.85).aspx'), ExternalReference(source_name='Pentestlab Token Manipulation', description='netbiosX. (2017, April 3). Token Manipulation. Retrieved April 21, 2017.', url='https://pentestlab.blog/2017/04/03/token-manipulation/'), ExternalReference(source_name='capec', url='https://capec.mitre.org/data/definitions/633.html', external_id='CAPEC-633')], object_marking_refs=['marking-definition--fa42a846-8d90-4e51-bc29-71d5b4802168'], x_mitre_attack_spec_version='2.1.0', x_mitre_contributors=['Tom Ueltschi @c_APT_ure', 'Travis Smith, Tripwire', 'Robby Winchester, @robwinchester3', 'Jared Atkinson, @jaredcatkinson'], x_mitre_data_sources=['Process: Process Metadata', 'Process: OS API Execution', 'User Account: User Account Metadata', 'Process: Process Creation', 'Command: Command Execution', 'Active Directory: Active Directory Object Modification'], x_mitre_defense_bypassed=['Windows User Account Control', 'Heuristic Detection', 'System Access Controls', 'Host Forensic Analysis'], x_mitre_deprecated=False, x_mitre_detection='If an adversary is using a standard command-line shell, analysts can detect token manipulation by auditing command-line activity. Specifically, analysts should look for use of the <code>runas</code> command. Detailed command-line logging is not enabled by default in Windows.(Citation: Microsoft Command-line Logging)\\n\\nIf an adversary is using a payload that calls the Windows token APIs directly, analysts can detect token manipulation only through careful analysis of user network activity, examination of running processes, and correlation with other endpoint and network behavior. \\n\\nThere are many Windows API calls a payload can take advantage of to manipulate access tokens (e.g., <code>LogonUser</code> (Citation: Microsoft LogonUser), <code>DuplicateTokenEx</code>(Citation: Microsoft DuplicateTokenEx), and <code>ImpersonateLoggedOnUser</code>(Citation: Microsoft ImpersonateLoggedOnUser)). Please see the referenced Windows API pages for more information.\\n\\nQuery systems for process and thread token information and look for inconsistencies such as user owns processes impersonating the local SYSTEM account.(Citation: BlackHat Atkinson Winchester Token Manipulation)\\n\\nLook for inconsistencies between the various fields that store PPID information, such as the EventHeader ProcessId from data collected via Event Tracing for Windows (ETW), Creator Process ID/Name from Windows event logs, and the ProcessID and ParentProcessID (which are also produced from ETW and other utilities such as Task Manager and Process Explorer). The ETW provided EventHeader ProcessId identifies the actual parent process.', x_mitre_domains=['enterprise-attack'], x_mitre_effective_permissions=['SYSTEM'], x_mitre_is_subtechnique=False, x_mitre_modified_by_ref='identity--c78cb6e5-0c4b-4611-8297-d1b8b55e40b5', x_mitre_permissions_required=['User', 'Administrator'], x_mitre_platforms=['Windows'], x_mitre_version='2.0')]"
      ]
     },
     "execution_count": 79,
     "metadata": {},
     "output_type": "execute_result"
    }
   ],
   "source": [
    "src.query([ \n",
    "    Filter(\"external_references.external_id\", \"=\", \"T1134\")])"
   ]
  },
  {
   "cell_type": "code",
   "execution_count": 64,
   "id": "273e3dc6-37f1-4a28-8635-2c5767a9fb75",
   "metadata": {
    "tags": []
   },
   "outputs": [
    {
     "name": "stdout",
     "output_type": "stream",
     "text": [
      "{\n",
      "    \"type\": \"attack-pattern\",\n",
      "    \"id\": \"attack-pattern--dcaa092b-7de9-4a21-977f-7fcb77e89c48\",\n",
      "    \"created_by_ref\": \"identity--c78cb6e5-0c4b-4611-8297-d1b8b55e40b5\",\n",
      "    \"created\": \"2017-12-14T16:46:06.044Z\",\n",
      "    \"modified\": \"2022-05-03T02:14:43.557Z\",\n",
      "    \"name\": \"Access Token Manipulation\",\n",
      "    \"description\": \"Adversaries may modify access tokens to operate under a different user or system security context to perform actions and bypass access controls. Windows uses access tokens to determine the ownership of a running process. A user can manipulate access tokens to make a running process appear as though it is the child of a different process or belongs to someone other than the user that started the process. When this occurs, the process also takes on the security context associated with the new token.\\n\\nAn adversary can use built-in Windows API functions to copy access tokens from existing processes; this is known as token stealing. These token can then be applied to an existing process (i.e. [Token Impersonation/Theft](https://attack.mitre.org/techniques/T1134/001)) or used to spawn a new process (i.e. [Create Process with Token](https://attack.mitre.org/techniques/T1134/002)). An adversary must already be in a privileged user context (i.e. administrator) to steal a token. However, adversaries commonly use token stealing to elevate their security context from the administrator level to the SYSTEM level. An adversary can then use a token to authenticate to a remote system as the account for that token if the account has appropriate permissions on the remote system.(Citation: Pentestlab Token Manipulation)\\n\\nAny standard user can use the <code>runas</code> command, and the Windows API functions, to create impersonation tokens; it does not require access to an administrator account. There are also other mechanisms, such as Active Directory fields, that can be used to modify access tokens.\",\n",
      "    \"kill_chain_phases\": [\n",
      "        {\n",
      "            \"kill_chain_name\": \"mitre-attack\",\n",
      "            \"phase_name\": \"defense-evasion\"\n",
      "        },\n",
      "        {\n",
      "            \"kill_chain_name\": \"mitre-attack\",\n",
      "            \"phase_name\": \"privilege-escalation\"\n",
      "        }\n",
      "    ],\n",
      "    \"external_references\": [\n",
      "        {\n",
      "            \"source_name\": \"mitre-attack\",\n",
      "            \"url\": \"https://attack.mitre.org/techniques/T1134\",\n",
      "            \"external_id\": \"T1134\"\n",
      "        },\n",
      "        {\n",
      "            \"source_name\": \"BlackHat Atkinson Winchester Token Manipulation\",\n",
      "            \"description\": \"Atkinson, J., Winchester, R. (2017, December 7). A Process is No One: Hunting for Token Manipulation. Retrieved December 21, 2017.\",\n",
      "            \"url\": \"https://www.blackhat.com/docs/eu-17/materials/eu-17-Atkinson-A-Process-Is-No-One-Hunting-For-Token-Manipulation.pdf\"\n",
      "        },\n",
      "        {\n",
      "            \"source_name\": \"Microsoft Command-line Logging\",\n",
      "            \"description\": \"Mathers, B. (2017, March 7). Command line process auditing. Retrieved April 21, 2017.\",\n",
      "            \"url\": \"https://technet.microsoft.com/en-us/windows-server-docs/identity/ad-ds/manage/component-updates/command-line-process-auditing\"\n",
      "        },\n",
      "        {\n",
      "            \"source_name\": \"Microsoft LogonUser\",\n",
      "            \"description\": \"Microsoft TechNet. (n.d.). Retrieved April 25, 2017.\",\n",
      "            \"url\": \"https://msdn.microsoft.com/en-us/library/windows/desktop/aa378184(v=vs.85).aspx\"\n",
      "        },\n",
      "        {\n",
      "            \"source_name\": \"Microsoft DuplicateTokenEx\",\n",
      "            \"description\": \"Microsoft TechNet. (n.d.). Retrieved April 25, 2017.\",\n",
      "            \"url\": \"https://msdn.microsoft.com/en-us/library/windows/desktop/aa446617(v=vs.85).aspx\"\n",
      "        },\n",
      "        {\n",
      "            \"source_name\": \"Microsoft ImpersonateLoggedOnUser\",\n",
      "            \"description\": \"Microsoft TechNet. (n.d.). Retrieved April 25, 2017.\",\n",
      "            \"url\": \"https://msdn.microsoft.com/en-us/library/windows/desktop/aa378612(v=vs.85).aspx\"\n",
      "        },\n",
      "        {\n",
      "            \"source_name\": \"Pentestlab Token Manipulation\",\n",
      "            \"description\": \"netbiosX. (2017, April 3). Token Manipulation. Retrieved April 21, 2017.\",\n",
      "            \"url\": \"https://pentestlab.blog/2017/04/03/token-manipulation/\"\n",
      "        },\n",
      "        {\n",
      "            \"source_name\": \"capec\",\n",
      "            \"url\": \"https://capec.mitre.org/data/definitions/633.html\",\n",
      "            \"external_id\": \"CAPEC-633\"\n",
      "        }\n",
      "    ],\n",
      "    \"object_marking_refs\": [\n",
      "        \"marking-definition--fa42a846-8d90-4e51-bc29-71d5b4802168\"\n",
      "    ],\n",
      "    \"x_mitre_attack_spec_version\": \"2.1.0\",\n",
      "    \"x_mitre_contributors\": [\n",
      "        \"Tom Ueltschi @c_APT_ure\",\n",
      "        \"Travis Smith, Tripwire\",\n",
      "        \"Robby Winchester, @robwinchester3\",\n",
      "        \"Jared Atkinson, @jaredcatkinson\"\n",
      "    ],\n",
      "    \"x_mitre_data_sources\": [\n",
      "        \"Process: Process Metadata\",\n",
      "        \"Process: OS API Execution\",\n",
      "        \"User Account: User Account Metadata\",\n",
      "        \"Process: Process Creation\",\n",
      "        \"Command: Command Execution\",\n",
      "        \"Active Directory: Active Directory Object Modification\"\n",
      "    ],\n",
      "    \"x_mitre_defense_bypassed\": [\n",
      "        \"Windows User Account Control\",\n",
      "        \"Heuristic Detection\",\n",
      "        \"System Access Controls\",\n",
      "        \"Host Forensic Analysis\"\n",
      "    ],\n",
      "    \"x_mitre_deprecated\": false,\n",
      "    \"x_mitre_detection\": \"If an adversary is using a standard command-line shell, analysts can detect token manipulation by auditing command-line activity. Specifically, analysts should look for use of the <code>runas</code> command. Detailed command-line logging is not enabled by default in Windows.(Citation: Microsoft Command-line Logging)\\n\\nIf an adversary is using a payload that calls the Windows token APIs directly, analysts can detect token manipulation only through careful analysis of user network activity, examination of running processes, and correlation with other endpoint and network behavior. \\n\\nThere are many Windows API calls a payload can take advantage of to manipulate access tokens (e.g., <code>LogonUser</code> (Citation: Microsoft LogonUser), <code>DuplicateTokenEx</code>(Citation: Microsoft DuplicateTokenEx), and <code>ImpersonateLoggedOnUser</code>(Citation: Microsoft ImpersonateLoggedOnUser)). Please see the referenced Windows API pages for more information.\\n\\nQuery systems for process and thread token information and look for inconsistencies such as user owns processes impersonating the local SYSTEM account.(Citation: BlackHat Atkinson Winchester Token Manipulation)\\n\\nLook for inconsistencies between the various fields that store PPID information, such as the EventHeader ProcessId from data collected via Event Tracing for Windows (ETW), Creator Process ID/Name from Windows event logs, and the ProcessID and ParentProcessID (which are also produced from ETW and other utilities such as Task Manager and Process Explorer). The ETW provided EventHeader ProcessId identifies the actual parent process.\",\n",
      "    \"x_mitre_domains\": [\n",
      "        \"enterprise-attack\"\n",
      "    ],\n",
      "    \"x_mitre_effective_permissions\": [\n",
      "        \"SYSTEM\"\n",
      "    ],\n",
      "    \"x_mitre_is_subtechnique\": false,\n",
      "    \"x_mitre_modified_by_ref\": \"identity--c78cb6e5-0c4b-4611-8297-d1b8b55e40b5\",\n",
      "    \"x_mitre_permissions_required\": [\n",
      "        \"User\",\n",
      "        \"Administrator\"\n",
      "    ],\n",
      "    \"x_mitre_platforms\": [\n",
      "        \"Windows\"\n",
      "    ],\n",
      "    \"x_mitre_version\": \"2.0\"\n",
      "}\n"
     ]
    }
   ],
   "source": [
    "print(t1134.serialize(pretty=True))"
   ]
  },
  {
   "cell_type": "code",
   "execution_count": 43,
   "id": "cafc94be-9407-4fc9-bbc7-4a83e12927ea",
   "metadata": {
    "tags": []
   },
   "outputs": [
    {
     "data": {
      "text/plain": [
       "['Process: Process Metadata',\n",
       " 'Process: OS API Execution',\n",
       " 'User Account: User Account Metadata',\n",
       " 'Process: Process Creation',\n",
       " 'Command: Command Execution',\n",
       " 'Active Directory: Active Directory Object Modification']"
      ]
     },
     "execution_count": 43,
     "metadata": {},
     "output_type": "execute_result"
    }
   ],
   "source": [
    "t1134.get('x_mitre_data_sources')"
   ]
  }
 ],
 "metadata": {
  "kernelspec": {
   "display_name": "attck_env",
   "language": "python",
   "name": "attck_env"
  },
  "language_info": {
   "codemirror_mode": {
    "name": "ipython",
    "version": 3
   },
   "file_extension": ".py",
   "mimetype": "text/x-python",
   "name": "python",
   "nbconvert_exporter": "python",
   "pygments_lexer": "ipython3",
   "version": "3.11.2"
  }
 },
 "nbformat": 4,
 "nbformat_minor": 5
}
